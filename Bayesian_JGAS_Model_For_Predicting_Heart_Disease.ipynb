{
 "cells": [
  {
   "cell_type": "markdown",
   "metadata": {},
   "source": [
    "# Bayesian JAGS model for predicting heart disease"
   ]
  },
  {
   "cell_type": "markdown",
   "metadata": {},
   "source": [
    "## Problem Statement\n",
    "In this mini project, we use a clinical dataset to predict whether a patient with a given set of symptoms and test results is at risk of a heart disease or not."
   ]
  },
  {
   "cell_type": "markdown",
   "metadata": {},
   "source": [
    "## Dataset\n",
    "We will use the Statlog (Heart) Data Set from UCI machine Learning Repository:\n",
    "https://archive.ics.uci.edu/ml/datasets/Statlog+%28Heart%29"
   ]
  },
  {
   "cell_type": "code",
   "execution_count": 20,
   "metadata": {},
   "outputs": [],
   "source": [
    "dat = read.csv(\"heart.dat\", sep=\"\", header=FALSE)"
   ]
  },
  {
   "cell_type": "code",
   "execution_count": 21,
   "metadata": {},
   "outputs": [
    {
     "data": {
      "text/html": [
       "<ol class=list-inline>\n",
       "\t<li>270</li>\n",
       "\t<li>14</li>\n",
       "</ol>\n"
      ],
      "text/latex": [
       "\\begin{enumerate*}\n",
       "\\item 270\n",
       "\\item 14\n",
       "\\end{enumerate*}\n"
      ],
      "text/markdown": [
       "1. 270\n",
       "2. 14\n",
       "\n",
       "\n"
      ],
      "text/plain": [
       "[1] 270  14"
      ]
     },
     "metadata": {},
     "output_type": "display_data"
    }
   ],
   "source": [
    "dim(dat)"
   ]
  },
  {
   "cell_type": "code",
   "execution_count": 133,
   "metadata": {},
   "outputs": [
    {
     "data": {
      "text/html": [
       "<table>\n",
       "<caption>A data.frame: 6 × 14</caption>\n",
       "<thead>\n",
       "\t<tr><th></th><th scope=col>V1</th><th scope=col>V2</th><th scope=col>V3</th><th scope=col>V4</th><th scope=col>V5</th><th scope=col>V6</th><th scope=col>V7</th><th scope=col>V8</th><th scope=col>V9</th><th scope=col>V10</th><th scope=col>V11</th><th scope=col>V12</th><th scope=col>V13</th><th scope=col>V14</th></tr>\n",
       "\t<tr><th></th><th scope=col>&lt;dbl&gt;</th><th scope=col>&lt;fct&gt;</th><th scope=col>&lt;fct&gt;</th><th scope=col>&lt;dbl&gt;</th><th scope=col>&lt;dbl&gt;</th><th scope=col>&lt;fct&gt;</th><th scope=col>&lt;fct&gt;</th><th scope=col>&lt;dbl&gt;</th><th scope=col>&lt;fct&gt;</th><th scope=col>&lt;dbl&gt;</th><th scope=col>&lt;dbl&gt;</th><th scope=col>&lt;dbl&gt;</th><th scope=col>&lt;fct&gt;</th><th scope=col>&lt;fct&gt;</th></tr>\n",
       "</thead>\n",
       "<tbody>\n",
       "\t<tr><th scope=row>1</th><td>70</td><td>1</td><td>4</td><td>130</td><td>322</td><td>0</td><td>2</td><td>109</td><td>0</td><td>2.4</td><td>2</td><td>3</td><td>3</td><td>2</td></tr>\n",
       "\t<tr><th scope=row>2</th><td>67</td><td>0</td><td>3</td><td>115</td><td>564</td><td>0</td><td>2</td><td>160</td><td>0</td><td>1.6</td><td>2</td><td>0</td><td>7</td><td>1</td></tr>\n",
       "\t<tr><th scope=row>3</th><td>57</td><td>1</td><td>2</td><td>124</td><td>261</td><td>0</td><td>0</td><td>141</td><td>0</td><td>0.3</td><td>1</td><td>0</td><td>7</td><td>2</td></tr>\n",
       "\t<tr><th scope=row>4</th><td>64</td><td>1</td><td>4</td><td>128</td><td>263</td><td>0</td><td>0</td><td>105</td><td>1</td><td>0.2</td><td>2</td><td>1</td><td>7</td><td>1</td></tr>\n",
       "\t<tr><th scope=row>5</th><td>74</td><td>0</td><td>2</td><td>120</td><td>269</td><td>0</td><td>2</td><td>121</td><td>1</td><td>0.2</td><td>1</td><td>1</td><td>3</td><td>1</td></tr>\n",
       "\t<tr><th scope=row>6</th><td>65</td><td>1</td><td>4</td><td>120</td><td>177</td><td>0</td><td>0</td><td>140</td><td>0</td><td>0.4</td><td>1</td><td>0</td><td>7</td><td>1</td></tr>\n",
       "</tbody>\n",
       "</table>\n"
      ],
      "text/latex": [
       "A data.frame: 6 × 14\n",
       "\\begin{tabular}{r|llllllllllllll}\n",
       "  & V1 & V2 & V3 & V4 & V5 & V6 & V7 & V8 & V9 & V10 & V11 & V12 & V13 & V14\\\\\n",
       "  & <dbl> & <fct> & <fct> & <dbl> & <dbl> & <fct> & <fct> & <dbl> & <fct> & <dbl> & <dbl> & <dbl> & <fct> & <fct>\\\\\n",
       "\\hline\n",
       "\t1 & 70 & 1 & 4 & 130 & 322 & 0 & 2 & 109 & 0 & 2.4 & 2 & 3 & 3 & 2\\\\\n",
       "\t2 & 67 & 0 & 3 & 115 & 564 & 0 & 2 & 160 & 0 & 1.6 & 2 & 0 & 7 & 1\\\\\n",
       "\t3 & 57 & 1 & 2 & 124 & 261 & 0 & 0 & 141 & 0 & 0.3 & 1 & 0 & 7 & 2\\\\\n",
       "\t4 & 64 & 1 & 4 & 128 & 263 & 0 & 0 & 105 & 1 & 0.2 & 2 & 1 & 7 & 1\\\\\n",
       "\t5 & 74 & 0 & 2 & 120 & 269 & 0 & 2 & 121 & 1 & 0.2 & 1 & 1 & 3 & 1\\\\\n",
       "\t6 & 65 & 1 & 4 & 120 & 177 & 0 & 0 & 140 & 0 & 0.4 & 1 & 0 & 7 & 1\\\\\n",
       "\\end{tabular}\n"
      ],
      "text/markdown": [
       "\n",
       "A data.frame: 6 × 14\n",
       "\n",
       "| <!--/--> | V1 &lt;dbl&gt; | V2 &lt;fct&gt; | V3 &lt;fct&gt; | V4 &lt;dbl&gt; | V5 &lt;dbl&gt; | V6 &lt;fct&gt; | V7 &lt;fct&gt; | V8 &lt;dbl&gt; | V9 &lt;fct&gt; | V10 &lt;dbl&gt; | V11 &lt;dbl&gt; | V12 &lt;dbl&gt; | V13 &lt;fct&gt; | V14 &lt;fct&gt; |\n",
       "|---|---|---|---|---|---|---|---|---|---|---|---|---|---|---|\n",
       "| 1 | 70 | 1 | 4 | 130 | 322 | 0 | 2 | 109 | 0 | 2.4 | 2 | 3 | 3 | 2 |\n",
       "| 2 | 67 | 0 | 3 | 115 | 564 | 0 | 2 | 160 | 0 | 1.6 | 2 | 0 | 7 | 1 |\n",
       "| 3 | 57 | 1 | 2 | 124 | 261 | 0 | 0 | 141 | 0 | 0.3 | 1 | 0 | 7 | 2 |\n",
       "| 4 | 64 | 1 | 4 | 128 | 263 | 0 | 0 | 105 | 1 | 0.2 | 2 | 1 | 7 | 1 |\n",
       "| 5 | 74 | 0 | 2 | 120 | 269 | 0 | 2 | 121 | 1 | 0.2 | 1 | 1 | 3 | 1 |\n",
       "| 6 | 65 | 1 | 4 | 120 | 177 | 0 | 0 | 140 | 0 | 0.4 | 1 | 0 | 7 | 1 |\n",
       "\n"
      ],
      "text/plain": [
       "  V1 V2 V3 V4  V5  V6 V7 V8  V9 V10 V11 V12 V13 V14\n",
       "1 70 1  4  130 322 0  2  109 0  2.4 2   3   3   2  \n",
       "2 67 0  3  115 564 0  2  160 0  1.6 2   0   7   1  \n",
       "3 57 1  2  124 261 0  0  141 0  0.3 1   0   7   2  \n",
       "4 64 1  4  128 263 0  0  105 1  0.2 2   1   7   1  \n",
       "5 74 0  2  120 269 0  2  121 1  0.2 1   1   3   1  \n",
       "6 65 1  4  120 177 0  0  140 0  0.4 1   0   7   1  "
      ]
     },
     "metadata": {},
     "output_type": "display_data"
    }
   ],
   "source": [
    "# Data Set Information:\n",
    "# -- 1. age\n",
    "# -- 2. sex\n",
    "# -- 3. chest pain type (4 values)\n",
    "# -- 4. resting blood pressure\n",
    "# -- 5. serum cholestoral in mg/dl\n",
    "# -- 6. fasting blood sugar > 120 mg/dl\n",
    "# -- 7. resting electrocardiographic results (values 0,1,2)\n",
    "# -- 8. maximum heart rate achieved\n",
    "# -- 9. exercise induced angina\n",
    "# -- 10. oldpeak = ST depression induced by exercise relative to rest\n",
    "# -- 11. the slope of the peak exercise ST segment\n",
    "# -- 12. number of major vessels (0-3) colored by flourosopy\n",
    "# -- 13. thal: 3 = normal; 6 = fixed defect; 7 = reversable defect\n",
    "# -- 14. Absence (1) or presence (2) of heart disease\n",
    "\n",
    "# Variable to be predicted: 14\n",
    "\n",
    "# data types\n",
    "# -----------------\n",
    "# Real: 1,4,5,8,10,12\n",
    "# Ordered:11,\n",
    "# Binary: 2,6,9,14\n",
    "# Nominal:7,3,13\n",
    "head(dat)"
   ]
  },
  {
   "cell_type": "code",
   "execution_count": 135,
   "metadata": {},
   "outputs": [],
   "source": [
    "# change datatype of categorical variables\n",
    "# Binary: 2,6,9\n",
    "# Nominal:7,3,13\n",
    "dat$V2 = factor(dat$V2)\n",
    "dat$V6 = factor(dat$V6)\n",
    "dat$V9 = factor(dat$V9)\n",
    "dat$V7 = factor(dat$V7)\n",
    "dat$V3 = factor(dat$V3)\n",
    "dat$V13 = factor(dat$V13)\n",
    "# str(dat)"
   ]
  },
  {
   "cell_type": "markdown",
   "metadata": {},
   "source": [
    "## Explore Data"
   ]
  },
  {
   "cell_type": "code",
   "execution_count": 27,
   "metadata": {},
   "outputs": [
    {
     "data": {
      "image/png": "[encoded data removed]",
      "text/plain": [
       "plot without title"
      ]
     },
     "metadata": {
      "image/png": {
       "height": 420,
       "width": 420
      },
      "text/plain": {
       "height": 420,
       "width": 420
      }
     },
     "output_type": "display_data"
    }
   ],
   "source": [
    "pairs(dat)"
   ]
  },
  {
   "cell_type": "code",
   "execution_count": 136,
   "metadata": {},
   "outputs": [
    {
     "data": {
      "image/png": "[encoded data removed]",
      "text/plain": [
       "Plot with title \"\""
      ]
     },
     "metadata": {
      "image/png": {
       "height": 420,
       "width": 420
      },
      "text/plain": {
       "height": 420,
       "width": 420
      }
     },
     "output_type": "display_data"
    }
   ],
   "source": [
    "library(\"corrplot\")\n",
    "Cor = cor(dat[,c(1,4,5,8,10,11,12)])\n",
    "corrplot(Cor, type=\"upper\", method=\"ellipse\", tl.pos=\"d\")\n",
    "corrplot(Cor, type=\"lower\", method=\"number\", col=\"black\", \n",
    "         add=TRUE, diag=FALSE, tl.pos=\"n\", cl.pos=\"n\")"
   ]
  },
  {
   "cell_type": "markdown",
   "metadata": {},
   "source": [
    "As we can see, there is high correlation between V8 and V1, and between V10 and V11. When we build our model in the subsequent sections, we will drop V8 and V11 from the the set of features. Now let's look at the categorical variables."
   ]
  },
  {
   "cell_type": "code",
   "execution_count": 138,
   "metadata": {},
   "outputs": [
    {
     "data": {
      "text/plain": [
       "   \n",
       "      0   1\n",
       "  1  67  83\n",
       "  2  20 100"
      ]
     },
     "metadata": {},
     "output_type": "display_data"
    },
    {
     "data": {
      "text/plain": [
       "   \n",
       "     1  2  3  4\n",
       "  1 15 35 62 38\n",
       "  2  5  7 17 91"
      ]
     },
     "metadata": {},
     "output_type": "display_data"
    }
   ],
   "source": [
    "table(dat$V14, dat$V2)\n",
    "table(dat$V14, dat$V3)"
   ]
  },
  {
   "cell_type": "markdown",
   "metadata": {},
   "source": [
    "The tabulated data above show that different levels of V2 and V3 have an apparent effect on the response V14."
   ]
  },
  {
   "cell_type": "code",
   "execution_count": 139,
   "metadata": {},
   "outputs": [
    {
     "data": {
      "image/png": "[encoded data removed]",
      "text/plain": [
       "plot without title"
      ]
     },
     "metadata": {
      "image/png": {
       "height": 420,
       "width": 420
      },
      "text/plain": {
       "height": 420,
       "width": 420
      }
     },
     "output_type": "display_data"
    },
    {
     "data": {
      "image/png": "[encoded data removed]",
      "text/plain": [
       "plot without title"
      ]
     },
     "metadata": {
      "image/png": {
       "height": 420,
       "width": 420
      },
      "text/plain": {
       "height": 420,
       "width": 420
      }
     },
     "output_type": "display_data"
    }
   ],
   "source": [
    "plot(dat$V10 , dat$V14)\n",
    "plot(dat$V12 , dat$V14)"
   ]
  },
  {
   "cell_type": "markdown",
   "metadata": {},
   "source": [
    "From the above graphs, we can see that V10 has a noticable effect on the reponse. The effect of V12 on the reponse, however, is not clear."
   ]
  },
  {
   "cell_type": "markdown",
   "metadata": {},
   "source": [
    "## Postulate a model\n",
    "For this purpose, we will use a logistic regression model. Before building the Baysian JAGS model, let's first build a general linear model so we can do a bit of feature engineering before moving forward. <br>\n",
    "Let's begin by using all uncorrelated variables."
   ]
  },
  {
   "cell_type": "code",
   "execution_count": 140,
   "metadata": {},
   "outputs": [],
   "source": [
    "glm.fit <- glm(V14 ~ V1+V2+V3+V4+V5+V6+V7+V9+V10+V12+V13, data = dat, family = binomial)"
   ]
  },
  {
   "cell_type": "code",
   "execution_count": 141,
   "metadata": {},
   "outputs": [
    {
     "data": {
      "text/plain": [
       "\n",
       "Call:\n",
       "glm(formula = V14 ~ V1 + V2 + V3 + V4 + V5 + V6 + V7 + V9 + V10 + \n",
       "    V12 + V13, family = binomial, data = dat)\n",
       "\n",
       "Deviance Residuals: \n",
       "    Min       1Q   Median       3Q      Max  \n",
       "-2.3433  -0.5041  -0.1585   0.3731   2.8062  \n",
       "\n",
       "Coefficients:\n",
       "             Estimate Std. Error z value Pr(>|z|)    \n",
       "(Intercept) -9.799617   2.409710  -4.067 4.77e-05 ***\n",
       "V1           0.007967   0.023756   0.335 0.737332    \n",
       "V21          1.513877   0.556876   2.719 0.006558 ** \n",
       "V32          1.255106   0.865292   1.450 0.146919    \n",
       "V33          0.582397   0.732824   0.795 0.426771    \n",
       "V34          2.449066   0.732386   3.344 0.000826 ***\n",
       "V4           0.018618   0.011719   1.589 0.112131    \n",
       "V5           0.005763   0.003977   1.449 0.147284    \n",
       "V61         -0.362671   0.596545  -0.608 0.543219    \n",
       "V71          1.324650   3.112516   0.426 0.670408    \n",
       "V72          0.720362   0.398181   1.809 0.070430 .  \n",
       "V91          0.834453   0.436812   1.910 0.056091 .  \n",
       "V10          0.680540   0.216950   3.137 0.001708 ** \n",
       "V12          1.119109   0.258486   4.329 1.49e-05 ***\n",
       "V136         0.377981   0.842198   0.449 0.653574    \n",
       "V137         1.554601   0.435806   3.567 0.000361 ***\n",
       "---\n",
       "Signif. codes:  0 '***' 0.001 '**' 0.01 '*' 0.05 '.' 0.1 ' ' 1\n",
       "\n",
       "(Dispersion parameter for binomial family taken to be 1)\n",
       "\n",
       "    Null deviance: 370.96  on 269  degrees of freedom\n",
       "Residual deviance: 178.13  on 254  degrees of freedom\n",
       "AIC: 210.13\n",
       "\n",
       "Number of Fisher Scoring iterations: 6\n"
      ]
     },
     "metadata": {},
     "output_type": "display_data"
    }
   ],
   "source": [
    "summary(glm.fit)"
   ]
  },
  {
   "cell_type": "markdown",
   "metadata": {},
   "source": [
    "As can be seen, many of the coeficients of the general linear model are insignificant. Only the coeficients of V1, V21, V34, V10, V12 and V13 seem to be significant. Note that upon transoforming to dummy variables, the categorical varibales have been renamed: V21 is the dummy variable (indicator) for V2 == 1, V32 is V3 == 2, V136 is V13 == 6, and so on. We are going to just focus on the variables that we found to be significant here and move to the Bayesian modeling. Before doing so, let's just have a look at how the general linear model does in terms of the predictions."
   ]
  },
  {
   "cell_type": "code",
   "execution_count": 146,
   "metadata": {},
   "outputs": [],
   "source": [
    "# predict probabilities\n",
    "glm.probs <- predict(glm.fit,type = \"response\")\n",
    "glm.pred <- ifelse(glm.probs > 0.5, 2, 1)"
   ]
  },
  {
   "cell_type": "code",
   "execution_count": 147,
   "metadata": {},
   "outputs": [
    {
     "data": {
      "text/html": [
       "0.859259259259259"
      ],
      "text/latex": [
       "0.859259259259259"
      ],
      "text/markdown": [
       "0.859259259259259"
      ],
      "text/plain": [
       "[1] 0.8592593"
      ]
     },
     "metadata": {},
     "output_type": "display_data"
    }
   ],
   "source": [
    "# model Accuracy\n",
    "mean(glm.pred == dat$V14)"
   ]
  },
  {
   "cell_type": "markdown",
   "metadata": {},
   "source": [
    "So we get 85% of accuracy, but we also used almost all of the variables in this baseline model, so there might be some overfitting. We won't address overfitting in this project."
   ]
  },
  {
   "cell_type": "code",
   "execution_count": 150,
   "metadata": {},
   "outputs": [
    {
     "data": {
      "text/plain": [
       "        \n",
       "glm.pred   1   2\n",
       "       1 135  23\n",
       "       2  15  97"
      ]
     },
     "metadata": {},
     "output_type": "display_data"
    }
   ],
   "source": [
    "# False negatives are vey important here\n",
    "# the confusion matrix\n",
    "table(glm.pred,dat$V14)"
   ]
  },
  {
   "cell_type": "code",
   "execution_count": 151,
   "metadata": {},
   "outputs": [
    {
     "data": {
      "text/html": [
       "0.0925925925925926"
      ],
      "text/latex": [
       "0.0925925925925926"
      ],
      "text/markdown": [
       "0.0925925925925926"
      ],
      "text/plain": [
       "[1] 0.09259259"
      ]
     },
     "metadata": {},
     "output_type": "display_data"
    }
   ],
   "source": [
    "# false negative rate\n",
    "25/270"
   ]
  },
  {
   "cell_type": "markdown",
   "metadata": {},
   "source": [
    "Of course, We will get a better false negative rate if we lower the threshold. We will experiment with it in the Bayesian model. "
   ]
  },
  {
   "cell_type": "markdown",
   "metadata": {},
   "source": [
    "### Model"
   ]
  },
  {
   "cell_type": "markdown",
   "metadata": {},
   "source": [
    "Let's postulate the following logistic regression model: <br>\n",
    "$y_i|p_i \\sim Bern(p_i), i = 1, 2, ..., n$ <br>\n",
    "$log\\left( \\frac{p_i}{1 - p_i} \\right) = b_0 + b_{21}V_{21}(i) + b_{32}V_{32}(i) + b_{33}V_{33}(i) + b_{34}V_{34}(i) + b_{10}V_{10}(i) + b_{12}V_{12}(i) + b_{136}V_{136}(i) + b_{137}V_{137}(i)$ <br>\n",
    "where $V_{10}$ and $V_{12}$ are real valued covariates and $V_{21}$, $V_{32}$, $V_{33}$, $V_{34}$, $V_{136}$, $V_{137}$ are dummy (one-hot encoded) covariates, and <br>\n",
    "$b_0$ has normal distribution and each of $b_{21}, ..., b_{137}$ has a double exponential distribution."
   ]
  },
  {
   "cell_type": "markdown",
   "metadata": {},
   "source": [
    "## Fit the model using JAGS"
   ]
  },
  {
   "cell_type": "code",
   "execution_count": 152,
   "metadata": {},
   "outputs": [],
   "source": [
    "library(\"rjags\")\n",
    "# scale and center numeric features \n",
    "library(MASS)\n",
    "# sdat contains scaled data\n",
    "sdat = dat\n",
    "numeric_columns <- sapply(sdat, is.numeric)\n",
    "sdat[numeric_columns] <- lapply(sdat[numeric_columns], scale)\n",
    "# observe that the data is both scaled and centered\n",
    "# colMeans(sdat[numeric_columns])\n",
    "# apply(sdat[numeric_columns], 2, sd)"
   ]
  },
  {
   "cell_type": "code",
   "execution_count": 153,
   "metadata": {},
   "outputs": [],
   "source": [
    "# One-hot encode categorical data in X1\n",
    "X1 = model.matrix( ~ V2 + V3 + V10 + V12 + V13, data=sdat)\n",
    "\n",
    "# JAGS logistic regression works with response 0, 1\n",
    "y = as.numeric(sdat$V14) - 1\n",
    "#head(X1)"
   ]
  },
  {
   "cell_type": "code",
   "execution_count": 156,
   "metadata": {
    "scrolled": false
   },
   "outputs": [
    {
     "name": "stdout",
     "output_type": "stream",
     "text": [
      "Compiling model graph\n",
      "   Resolving undeclared variables\n",
      "   Allocating nodes\n",
      "Graph information:\n",
      "   Observed stochastic nodes: 270\n",
      "   Unobserved stochastic nodes: 9\n",
      "   Total graph size: 2868\n",
      "\n",
      "Initializing model\n",
      "\n"
     ]
    },
    {
     "data": {
      "text/plain": [
       "Potential scale reduction factors:\n",
       "\n",
       "     Point est. Upper C.I.\n",
       "b0         1.01       1.01\n",
       "b10        1.00       1.00\n",
       "b12        1.00       1.00\n",
       "b136       1.00       1.00\n",
       "b137       1.00       1.00\n",
       "b21        1.00       1.00\n",
       "b32        1.00       1.00\n",
       "b33        1.00       1.00\n",
       "b34        1.00       1.01\n",
       "\n",
       "Multivariate psrf\n",
       "\n",
       "1"
      ]
     },
     "metadata": {},
     "output_type": "display_data"
    },
    {
     "data": {
      "image/png": "[encoded data removed]",
      "text/plain": [
       "Plot with title \"b34\""
      ]
     },
     "metadata": {
      "image/png": {
       "height": 420,
       "width": 420
      },
      "text/plain": {
       "height": 420,
       "width": 420
      }
     },
     "output_type": "display_data"
    },
    {
     "data": {
      "image/png": "[encoded data removed]",
      "text/plain": [
       "Plot with title \"b34\""
      ]
     },
     "metadata": {
      "image/png": {
       "height": 420,
       "width": 420
      },
      "text/plain": {
       "height": 420,
       "width": 420
      }
     },
     "output_type": "display_data"
    },
    {
     "data": {
      "image/png": "[encoded data removed]",
      "text/plain": [
       "Plot with title \"b34\""
      ]
     },
     "metadata": {
      "image/png": {
       "height": 420,
       "width": 420
      },
      "text/plain": {
       "height": 420,
       "width": 420
      }
     },
     "output_type": "display_data"
    }
   ],
   "source": [
    "mod1_string = \" model {\n",
    "    for (i in 1:length(y)) {\n",
    "        y[i] ~ dbern(p[i])\n",
    "        logit(p[i]) = (b0 + b21*V21[i] + b32*V32[i] + b33*V33[i] + b34*V34[i] + b10*V10[i] + b12*V12[i] + \n",
    "                        b136*V136[i] + b137*V137[i] )\n",
    "    }\n",
    "\n",
    "    b0 ~ dnorm(0.0, 1.0/25.0)    \n",
    "    b21 ~ ddexp(0.0, sqrt(2.0)) # has variance 1.0\n",
    "    b32 ~ ddexp(0.0, sqrt(2.0))\n",
    "    b33 ~ ddexp(0.0, sqrt(2.0))\n",
    "    b34 ~ ddexp(0.0, sqrt(2.0))\n",
    "    b10 ~ ddexp(0.0, sqrt(2.0))\n",
    "    b12 ~ ddexp(0.0, sqrt(2.0))\n",
    "    b136 ~ ddexp(0.0, sqrt(2.0))\n",
    "    b137 ~ ddexp(0.0, sqrt(2.0))\n",
    "} \"\n",
    "\n",
    "\n",
    "data1_jags = list(y=y, V21=X1[,\"V21\"], V32=X1[,\"V32\"], V33=X1[,\"V33\"], V34=X1[,\"V34\"], V10=X1[,\"V10\"], V12=X1[,\"V12\"]\n",
    "                , V136=X1[,\"V136\"], V137=X1[,\"V137\"])\n",
    "\n",
    "params1 = c(\"b0\", \"b21\", \"b32\", \"b33\", \"b34\", \"b10\", \"b12\", \"b136\", \"b137\")\n",
    "\n",
    "mod1 = jags.model(textConnection(mod1_string), data=data1_jags, n.chains=3)\n",
    "update(mod1, 1e3)\n",
    "\n",
    "mod1_sim = coda.samples(model=mod1,\n",
    "                        variable.names=params1,\n",
    "                        n.iter=5e3)\n",
    "mod1_csim = as.mcmc(do.call(rbind, mod1_sim))\n",
    "\n",
    "## convergence diagnostics\n",
    "# plot(mod1_sim, ask=TRUE)\n",
    "\n",
    "gelman.diag(mod1_sim)\n",
    "#autocorr.diag(mod1_sim)\n",
    "autocorr.plot(mod1_sim)\n",
    "#effectiveSize(mod1_sim)\n",
    "\n",
    "## calculate DIC\n",
    "dic1 = dic.samples(mod1, n.iter=1e3)"
   ]
  },
  {
   "cell_type": "markdown",
   "metadata": {},
   "source": [
    "I have commented out parts of the convergence checks, but as can bee seen they look pretty good. "
   ]
  },
  {
   "cell_type": "markdown",
   "metadata": {},
   "source": [
    "#### Check model summary"
   ]
  },
  {
   "cell_type": "code",
   "execution_count": 106,
   "metadata": {},
   "outputs": [
    {
     "data": {
      "text/plain": [
       "\n",
       "Iterations = 2001:7000\n",
       "Thinning interval = 1 \n",
       "Number of chains = 3 \n",
       "Sample size per chain = 5000 \n",
       "\n",
       "1. Empirical mean and standard deviation for each variable,\n",
       "   plus standard error of the mean:\n",
       "\n",
       "        Mean     SD Naive SE Time-series SE\n",
       "b0   -2.2288 0.5071 0.004140       0.018371\n",
       "b10   0.7907 0.2080 0.001698       0.002329\n",
       "b12   0.9656 0.2103 0.001717       0.002279\n",
       "b136  0.3258 0.5294 0.004323       0.006512\n",
       "b137  1.5275 0.3899 0.003184       0.006527\n",
       "b21   0.8202 0.4256 0.003475       0.011091\n",
       "b32   0.1733 0.4842 0.003954       0.010376\n",
       "b33  -0.1853 0.4329 0.003535       0.010438\n",
       "b34   1.7680 0.4692 0.003831       0.013450\n",
       "\n",
       "2. Quantiles for each variable:\n",
       "\n",
       "         2.5%      25%     50%      75%   97.5%\n",
       "b0   -3.23066 -2.56939 -2.2211 -1.87756 -1.2747\n",
       "b10   0.38904  0.64826  0.7870  0.92901  1.2130\n",
       "b12   0.56702  0.82189  0.9589  1.10345  1.3943\n",
       "b136 -0.63319 -0.02531  0.2755  0.64918  1.4794\n",
       "b137  0.78794  1.25745  1.5202  1.78522  2.3097\n",
       "b21   0.02125  0.52866  0.8121  1.10570  1.6874\n",
       "b32  -0.76079 -0.12662  0.1434  0.46539  1.2013\n",
       "b33  -1.11275 -0.45370 -0.1527  0.09257  0.6443\n",
       "b34   0.84158  1.45764  1.7681  2.08353  2.6830\n"
      ]
     },
     "metadata": {},
     "output_type": "display_data"
    }
   ],
   "source": [
    "summary(mod1_sim)"
   ]
  },
  {
   "cell_type": "markdown",
   "metadata": {},
   "source": [
    "## Check the model\n",
    "We have seen the convergence information above. Let's look at the coeficients too."
   ]
  },
  {
   "cell_type": "code",
   "execution_count": 107,
   "metadata": {},
   "outputs": [
    {
     "data": {
      "image/png": "[encoded data removed]",
      "text/plain": [
       "Plot with title \"Density of b34\""
      ]
     },
     "metadata": {
      "image/png": {
       "height": 420,
       "width": 420
      },
      "text/plain": {
       "height": 420,
       "width": 420
      }
     },
     "output_type": "display_data"
    }
   ],
   "source": [
    "par(mfrow=c(3,3))\n",
    "densplot(mod1_csim[,1:9], xlim=c(-3.0, 3.0))"
   ]
  },
  {
   "cell_type": "markdown",
   "metadata": {},
   "source": [
    "## Iterate\n",
    "We have already iterated and did some feature engineering when we built the general linear model. Although strictly speaking it might be arguable to use the result of that analysis here, we can argue that the general linear model and the Bayesian model are infact very similiar. We used a bernoulli likelihood and independent double exponential distributions for the coeficients in the Bayesian model, whereas in the general linear model independent normal distributions for the coeficients are assumed. As we will see below, the results of the two models are very similar. So we can take the general linear model as one of our  iterations. There is one more thing we can do here, and that is the above plots show that b136, b32 and b33 are most probably not significant and we can remove them from the model. I will skipp it and go ahead to check the predictions. "
   ]
  },
  {
   "cell_type": "markdown",
   "metadata": {},
   "source": [
    "### Check accuracy and the false negative rate"
   ]
  },
  {
   "cell_type": "code",
   "execution_count": 157,
   "metadata": {},
   "outputs": [
    {
     "data": {
      "text/html": [
       "<dl class=dl-horizontal>\n",
       "\t<dt>b0</dt>\n",
       "\t\t<dd>-2.23686256238747</dd>\n",
       "\t<dt>b10</dt>\n",
       "\t\t<dd>0.78852564343154</dd>\n",
       "\t<dt>b12</dt>\n",
       "\t\t<dd>0.963743053843221</dd>\n",
       "\t<dt>b136</dt>\n",
       "\t\t<dd>0.307144694066014</dd>\n",
       "\t<dt>b137</dt>\n",
       "\t\t<dd>1.51443422144236</dd>\n",
       "\t<dt>b21</dt>\n",
       "\t\t<dd>0.836309309832402</dd>\n",
       "\t<dt>b32</dt>\n",
       "\t\t<dd>0.179813434843752</dd>\n",
       "\t<dt>b33</dt>\n",
       "\t\t<dd>-0.185581582091829</dd>\n",
       "\t<dt>b34</dt>\n",
       "\t\t<dd>1.76992578854238</dd>\n",
       "</dl>\n"
      ],
      "text/latex": [
       "\\begin{description*}\n",
       "\\item[b0] -2.23686256238747\n",
       "\\item[b10] 0.78852564343154\n",
       "\\item[b12] 0.963743053843221\n",
       "\\item[b136] 0.307144694066014\n",
       "\\item[b137] 1.51443422144236\n",
       "\\item[b21] 0.836309309832402\n",
       "\\item[b32] 0.179813434843752\n",
       "\\item[b33] -0.185581582091829\n",
       "\\item[b34] 1.76992578854238\n",
       "\\end{description*}\n"
      ],
      "text/markdown": [
       "b0\n",
       ":   -2.23686256238747b10\n",
       ":   0.78852564343154b12\n",
       ":   0.963743053843221b136\n",
       ":   0.307144694066014b137\n",
       ":   1.51443422144236b21\n",
       ":   0.836309309832402b32\n",
       ":   0.179813434843752b33\n",
       ":   -0.185581582091829b34\n",
       ":   1.76992578854238\n",
       "\n"
      ],
      "text/plain": [
       "        b0        b10        b12       b136       b137        b21        b32 \n",
       "-2.2368626  0.7885256  0.9637431  0.3071447  1.5144342  0.8363093  0.1798134 \n",
       "       b33        b34 \n",
       "-0.1855816  1.7699258 "
      ]
     },
     "metadata": {},
     "output_type": "display_data"
    }
   ],
   "source": [
    "# first, we need the coeficients, which we can get from the Monte Carlo MArkov Chain simulation result.\n",
    "(pm_coef = colMeans(mod1_csim))"
   ]
  },
  {
   "cell_type": "code",
   "execution_count": 158,
   "metadata": {},
   "outputs": [],
   "source": [
    "pm1_Xb = X1 %*% pm_coef\n",
    "phat1 = 1.0 / (1.0 + exp(-pm1_Xb))\n",
    "#head(phat1)"
   ]
  },
  {
   "cell_type": "code",
   "execution_count": 159,
   "metadata": {},
   "outputs": [
    {
     "data": {
      "image/png": "[encoded data removed]",
      "text/plain": [
       "plot without title"
      ]
     },
     "metadata": {
      "image/png": {
       "height": 420,
       "width": 420
      },
      "text/plain": {
       "height": 420,
       "width": 420
      }
     },
     "output_type": "display_data"
    }
   ],
   "source": [
    "# predicted probabilities\n",
    "plot(phat1, jitter(y))"
   ]
  },
  {
   "cell_type": "code",
   "execution_count": 160,
   "metadata": {},
   "outputs": [
    {
     "data": {
      "text/plain": [
       "    y\n",
       "pred   0   1\n",
       "   0 119  25\n",
       "   1  31  95"
      ]
     },
     "metadata": {},
     "output_type": "display_data"
    }
   ],
   "source": [
    "pred1 <- ifelse(phat1 > 0.5, 1, 0)\n",
    "# confusion matrix\n",
    "table(pred, y)"
   ]
  },
  {
   "cell_type": "code",
   "execution_count": 161,
   "metadata": {},
   "outputs": [
    {
     "data": {
      "text/html": [
       "0.792592592592593"
      ],
      "text/latex": [
       "0.792592592592593"
      ],
      "text/markdown": [
       "0.792592592592593"
      ],
      "text/plain": [
       "[1] 0.7925926"
      ]
     },
     "metadata": {},
     "output_type": "display_data"
    }
   ],
   "source": [
    "# accuracy\n",
    "mean(pred1 == y)"
   ]
  },
  {
   "cell_type": "code",
   "execution_count": 162,
   "metadata": {},
   "outputs": [
    {
     "data": {
      "text/html": [
       "0.0925925925925926"
      ],
      "text/latex": [
       "0.0925925925925926"
      ],
      "text/markdown": [
       "0.0925925925925926"
      ],
      "text/plain": [
       "[1] 0.09259259"
      ]
     },
     "metadata": {},
     "output_type": "display_data"
    }
   ],
   "source": [
    "# False negatives\n",
    "25/270"
   ]
  },
  {
   "cell_type": "markdown",
   "metadata": {},
   "source": [
    "Let's lower the threshold to improve the false negative rate. Note that the accuracy is also improved. Full investigation of this effect requires building an ROC which I won't do here."
   ]
  },
  {
   "cell_type": "code",
   "execution_count": 164,
   "metadata": {},
   "outputs": [
    {
     "data": {
      "text/plain": [
       "     y\n",
       "pred1   0   1\n",
       "    0 117  19\n",
       "    1  33 101"
      ]
     },
     "metadata": {},
     "output_type": "display_data"
    },
    {
     "data": {
      "text/html": [
       "0.807407407407407"
      ],
      "text/latex": [
       "0.807407407407407"
      ],
      "text/markdown": [
       "0.807407407407407"
      ],
      "text/plain": [
       "[1] 0.8074074"
      ]
     },
     "metadata": {},
     "output_type": "display_data"
    }
   ],
   "source": [
    "pred1 <- ifelse(phat1 > 0.4, 1, 0)\n",
    "table(pred1, y)\n",
    "mean(pred1 == y)"
   ]
  },
  {
   "cell_type": "markdown",
   "metadata": {},
   "source": [
    "**These results are good enough for this practice so I won't iterate further to improve this model.**"
   ]
  },
  {
   "cell_type": "markdown",
   "metadata": {},
   "source": [
    "## Use model"
   ]
  },
  {
   "cell_type": "markdown",
   "metadata": {},
   "source": [
    "Let's demonstrate a very simple use case. Consider a male patient (V21 = 0), with chest pain type V3 = 3 (V32 = 0, V33 = 1, V34 = 0), oldpeak V10= 1.6 (scaled to 0.48), number of major vessles V12 = 3 (scaled to 2.47), and V13 = 6 (fixed defect V136 = 1, V137 = 0). Let's predict if this patient will have a heart disease. "
   ]
  },
  {
   "cell_type": "code",
   "execution_count": 175,
   "metadata": {},
   "outputs": [
    {
     "data": {
      "text/html": [
       "<table>\n",
       "<caption>A matrix: 1 × 1 of type chr</caption>\n",
       "<tbody>\n",
       "\t<tr><td>no disease</td></tr>\n",
       "</tbody>\n",
       "</table>\n"
      ],
      "text/latex": [
       "A matrix: 1 × 1 of type chr\n",
       "\\begin{tabular}{l}\n",
       "\t no disease\\\\\n",
       "\\end{tabular}\n"
      ],
      "text/markdown": [
       "\n",
       "A matrix: 1 × 1 of type chr\n",
       "\n",
       "| no disease |\n",
       "\n"
      ],
      "text/plain": [
       "     [,1]      \n",
       "[1,] no disease"
      ]
     },
     "metadata": {},
     "output_type": "display_data"
    }
   ],
   "source": [
    "# add 1 as the intercept as the first element to x\n",
    "x = c(1, 0, 0, 1, 0, 0.48, 2.47, 1, 0)\n",
    "logit = x %*% pm_coef\n",
    "p = 1.0 / (1.0 + exp(-logit))\n",
    "(pred <- ifelse(p > 0.4, 'has disease', 'no disease'))"
   ]
  }
 ],
 "metadata": {
  "kernelspec": {
   "display_name": "R",
   "language": "R",
   "name": "ir"
  },
  "language_info": {
   "codemirror_mode": "r",
   "file_extension": ".r",
   "mimetype": "text/x-r-source",
   "name": "R",
   "pygments_lexer": "r",
   "version": "3.6.1"
  }
 },
 "nbformat": 4,
 "nbformat_minor": 4
}
